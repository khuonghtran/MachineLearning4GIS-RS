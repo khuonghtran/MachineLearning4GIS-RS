{
 "cells": [
  {
   "cell_type": "code",
   "execution_count": 14,
   "id": "bd844f95",
   "metadata": {},
   "outputs": [
    {
     "name": "stdout",
     "output_type": "stream",
     "text": [
      "machine learning course\n",
      "machine learning course GEOG-790 Spring 2022\n",
      "machine learning course ; GEOG-790 ; Spring 2022\n",
      "24\n",
      "The result is: 9\n",
      "machine learning course points: 90\n",
      "This is GIS 790 Spring 2022\n",
      "This is GIS 790 Spring 2022\n",
      "This is GIS 790 Spring 2022\n"
     ]
    }
   ],
   "source": [
    "#print statement\n",
    "\n",
    "print(\"machine learning course\")\n",
    "print(\"machine learning course\",\"GEOG-790\",\"Spring 2022\")\n",
    "print(\"machine learning course\",\";\",\"GEOG-790\",\";\",\"Spring 2022\")\n",
    "\n",
    "print(3*8)\n",
    "print(\"The result is: \"+ str(3*3)) # + does not appear the space between items\n",
    "\n",
    "print(\"machine learning\" + \" course points: \" + str(90)) #concatenate string with strings\n",
    "\n",
    "\n",
    "print(\"This is GIS %d Spring %d\" %(790, 2022))\n",
    "print(\"This is GIS {} Spring {}\".format(790,2022))\n",
    "print(\"This is GIS \" + str(790) + \" Spring \" + str(2022))\n"
   ]
  },
  {
   "cell_type": "code",
   "execution_count": 15,
   "id": "82ff90f7",
   "metadata": {},
   "outputs": [
    {
     "data": {
      "text/plain": [
       "int"
      ]
     },
     "execution_count": 15,
     "metadata": {},
     "output_type": "execute_result"
    }
   ],
   "source": [
    "#data type\n",
    "type(\"3\")\n",
    "type(3)"
   ]
  },
  {
   "cell_type": "code",
   "execution_count": 17,
   "id": "90ca9e33",
   "metadata": {},
   "outputs": [
    {
     "data": {
      "text/plain": [
       "6.0"
      ]
     },
     "execution_count": 17,
     "metadata": {},
     "output_type": "execute_result"
    }
   ],
   "source": [
    "#numbers: int float, change numeric types:int(str) or str(int) or float(int)\n",
    "3.89\n",
    "int(3.89)\n",
    "str(3.89)\n",
    "float(6)"
   ]
  },
  {
   "cell_type": "code",
   "execution_count": 39,
   "id": "d90c2b2b",
   "metadata": {},
   "outputs": [
    {
     "ename": "SyntaxError",
     "evalue": "EOL while scanning string literal (Temp/ipykernel_21480/2668331236.py, line 19)",
     "output_type": "error",
     "traceback": [
      "\u001b[1;36m  File \u001b[1;32m\"C:\\Users\\KHUONG~1.TRA\\AppData\\Local\\Temp/ipykernel_21480/2668331236.py\"\u001b[1;36m, line \u001b[1;32m19\u001b[0m\n\u001b[1;33m    e=d.split(\"\\\")\u001b[0m\n\u001b[1;37m                  ^\u001b[0m\n\u001b[1;31mSyntaxError\u001b[0m\u001b[1;31m:\u001b[0m EOL while scanning string literal\n"
     ]
    }
   ],
   "source": [
    "#string. length, and indexing, slicing a[2:5], strip blank space a.strip(); replace: a.replace(\"J\",\"H\"); a.split(\",\")\n",
    "a=\"ML course\"\n",
    "len(\"ML course\") #count space also\n",
    "print(len(a))\n",
    "print(a[1])\n",
    "\n",
    "b = \"ML_course is very bad\"\n",
    "print(b[-2])\n",
    "print(b[3:9])\n",
    "b.strip()\n",
    "b.replace(\"bad\",\"good\")\n",
    "\n",
    "\n",
    "c=b.split(\"_\")\n",
    "print(c)\n",
    "\n",
    "\n",
    "d=\"E:\\HKT\\Projects\\2021\\vegphe\\Papers\\Literatures\"\n",
    "e=d.split(\"\\\")"
   ]
  },
  {
   "cell_type": "code",
   "execution_count": 47,
   "id": "cc42348b",
   "metadata": {},
   "outputs": [
    {
     "name": "stdout",
     "output_type": "stream",
     "text": [
      "10 7 9\n"
     ]
    },
    {
     "data": {
      "text/plain": [
       "'COURSE'"
      ]
     },
     "execution_count": 47,
     "metadata": {},
     "output_type": "execute_result"
    }
   ],
   "source": [
    "#variable. assign values (str, int, float), length and indexing, assign variables, z = x + y\n",
    "#gloable and local variables; compare two variables same or not, false or true\n",
    "#lower and upper case of string: a.uppper or a.lower\n",
    "a=3\n",
    "b=7\n",
    "a*b\n",
    "a,b,c=3,7,9\n",
    "\n",
    "a = 10 #global variable #function -> local varible\n",
    "print(a,b,c)\n",
    "\n",
    "a<b\n",
    "a==b\n",
    "\n",
    "x=\"course\"\n",
    "x.upper()"
   ]
  },
  {
   "cell_type": "code",
   "execution_count": 60,
   "id": "852f9244",
   "metadata": {},
   "outputs": [
    {
     "name": "stdout",
     "output_type": "stream",
     "text": [
      "10\n"
     ]
    },
    {
     "data": {
      "text/plain": [
       "True"
      ]
     },
     "execution_count": 60,
     "metadata": {},
     "output_type": "execute_result"
    }
   ],
   "source": [
    "#python operations\n",
    "x, y = 3, 2\n",
    "z = y%x #remain\n",
    "x**y #\n",
    "y//x\n",
    "#print(z)\n",
    "x = x + 7\n",
    "x+=7\n",
    "x-=7\n",
    "print(x)\n",
    "\n",
    "x==y\n",
    "x!=y"
   ]
  },
  {
   "cell_type": "code",
   "execution_count": 75,
   "id": "6822840e",
   "metadata": {},
   "outputs": [
    {
     "name": "stdout",
     "output_type": "stream",
     "text": [
      "9\n",
      "[9, 20]\n",
      "20 1 42\n",
      "[4, 9, 7, 20, 1]\n",
      "['name4', 'name2', 'name3']\n",
      "[4, 9, 7, 20, 1, 'name4', 'name2', 'name3']\n"
     ]
    }
   ],
   "source": [
    "#list l.insert(1,\"e\") l.sort(); l1=l.copy(); l = l1+l2;\n",
    "m = [4, 8, 9, 20, 1]\n",
    "\n",
    "len(m)\n",
    "print(m[2])\n",
    "print(m[-3:-1])\n",
    "print(max(m),min(m),sum(m))\n",
    "m.insert(3,7)\n",
    "m.append(200) #using a lot\n",
    "m.remove(200)\n",
    "m.pop(1) #   del m[1]\n",
    "print(m)\n",
    "\n",
    "n = [\"name1\", \"name2\", \"name3\"]\n",
    "n.remove(\"name1\")\n",
    "n.insert(0,\"name4\")\n",
    "print(n)\n",
    "#sum(n)\n",
    "\n",
    "\n",
    "new_list=m+n\n",
    "print(new_list)\n"
   ]
  },
  {
   "cell_type": "code",
   "execution_count": 77,
   "id": "86bde975",
   "metadata": {},
   "outputs": [
    {
     "name": "stdout",
     "output_type": "stream",
     "text": [
      "[0, 1, 4, 9, 16, 25, 36, 49, 64, 81, 100, 121, 144, 169, 196, 225, 256, 289, 324, 361, 400, 441, 484, 529, 576, 625, 676, 729, 784, 841, 900, 961, 1024, 1089, 1156, 1225, 1296, 1369, 1444, 1521, 1600, 1681, 1764, 1849, 1936, 2025, 2116, 2209, 2304, 2401, 2500, 2601, 2704, 2809, 2916, 3025, 3136, 3249, 3364, 3481, 3600, 3721, 3844, 3969, 4096, 4225, 4356, 4489, 4624, 4761, 4900, 5041, 5184, 5329, 5476, 5625, 5776, 5929, 6084, 6241, 6400, 6561, 6724, 6889, 7056, 7225, 7396, 7569, 7744, 7921, 8100, 8281, 8464, 8649, 8836, 9025, 9216, 9409, 9604, 9801]\n"
     ]
    }
   ],
   "source": [
    "a = []\n",
    "for i in range(100):\n",
    "    i*=i               #i=i*i\n",
    "    a.append(i)\n",
    "print(a)"
   ]
  },
  {
   "cell_type": "code",
   "execution_count": 95,
   "id": "14da7df4",
   "metadata": {},
   "outputs": [
    {
     "name": "stdout",
     "output_type": "stream",
     "text": [
      "{'brand': ['ford', 'Honda'], 'model': ['Mustang'], 'year': [1964, 1990]}\n",
      "dict_keys(['brand', 'model', 'year'])\n",
      "['ford', 'Honda']\n",
      "not available\n",
      "{'key0': (10, 15), 'key1': (11, 16), 'key2': (12, 17), 'key3': (13, 18), 'key4': (14, 19), 'key5': (15, 20), 'key6': (16, 21), 'key7': (17, 22), 'key8': (18, 23), 'key9': (19, 24), 'key10': (20, 25), 'key11': (21, 26), 'key12': (22, 27), 'key13': (23, 28), 'key14': (24, 29), 'key15': (25, 30), 'key16': (26, 31), 'key17': (27, 32), 'key18': (28, 33), 'key19': (29, 34), 'key20': (30, 35), 'key21': (31, 36), 'key22': (32, 37), 'key23': (33, 38), 'key24': (34, 39), 'key25': (35, 40), 'key26': (36, 41), 'key27': (37, 42), 'key28': (38, 43), 'key29': (39, 44), 'key30': (40, 45), 'key31': (41, 46), 'key32': (42, 47), 'key33': (43, 48), 'key34': (44, 49), 'key35': (45, 50), 'key36': (46, 51), 'key37': (47, 52), 'key38': (48, 53), 'key39': (49, 54), 'key40': (50, 55), 'key41': (51, 56), 'key42': (52, 57), 'key43': (53, 58), 'key44': (54, 59), 'key45': (55, 60), 'key46': (56, 61), 'key47': (57, 62), 'key48': (58, 63), 'key49': (59, 64), 'key50': (60, 65), 'key51': (61, 66), 'key52': (62, 67), 'key53': (63, 68), 'key54': (64, 69), 'key55': (65, 70), 'key56': (66, 71), 'key57': (67, 72), 'key58': (68, 73), 'key59': (69, 74), 'key60': (70, 75), 'key61': (71, 76), 'key62': (72, 77), 'key63': (73, 78), 'key64': (74, 79), 'key65': (75, 80), 'key66': (76, 81), 'key67': (77, 82), 'key68': (78, 83), 'key69': (79, 84), 'key70': (80, 85), 'key71': (81, 86), 'key72': (82, 87), 'key73': (83, 88), 'key74': (84, 89), 'key75': (85, 90), 'key76': (86, 91), 'key77': (87, 92), 'key78': (88, 93), 'key79': (89, 94), 'key80': (90, 95), 'key81': (91, 96), 'key82': (92, 97), 'key83': (93, 98), 'key84': (94, 99), 'key85': (95, 100), 'key86': (96, 101), 'key87': (97, 102), 'key88': (98, 103), 'key89': (99, 104), 'key90': (100, 105), 'key91': (101, 106), 'key92': (102, 107), 'key93': (103, 108), 'key94': (104, 109), 'key95': (105, 110), 'key96': (106, 111), 'key97': (107, 112), 'key98': (108, 113), 'key99': (109, 114)}\n"
     ]
    }
   ],
   "source": [
    "#dictionaries | different models have different perfomances good case\n",
    "#={key1:3, key2:5, key3:\"geo\"}\n",
    "car = {\"brand\": [\"ford\",\"Honda\"],\n",
    "      \"model\":[\"Mustang\"],\n",
    "       \"year\":[1964,1990]}\n",
    "print(car)\n",
    "print(car.keys())\n",
    "print(car.get(\"brand\"))\n",
    "#replace value\n",
    "car[\"year\"]=\"not available\"\n",
    "print(car[\"year\"])\n",
    "\n",
    "#GIS RS JSON based on dictionaries\n",
    "\n",
    "#dictinary has key and values\n",
    "\n",
    "a ={}\n",
    "for i in range(100):\n",
    "    i=i+10\n",
    "    a[\"key\"+str(i-10)]=i,i+5\n",
    "print(a)"
   ]
  },
  {
   "cell_type": "code",
   "execution_count": 99,
   "id": "cc360d70",
   "metadata": {},
   "outputs": [
    {
     "name": "stdout",
     "output_type": "stream",
     "text": [
      "a is equal to b\n"
     ]
    }
   ],
   "source": [
    "#if statement\n",
    "a=20\n",
    "b=20\n",
    "a>b\n",
    "if a<b:\n",
    "    print(\"a is smaller than b\")\n",
    "elif a>b:\n",
    "    print(\"a is greater than b\")\n",
    "#elif add more\n",
    "else:\n",
    "    print(\"a is equal to b\")"
   ]
  },
  {
   "cell_type": "code",
   "execution_count": 109,
   "id": "ff57ca5f",
   "metadata": {},
   "outputs": [
    {
     "name": "stdout",
     "output_type": "stream",
     "text": [
      "machine\n",
      "learning\n",
      "course\n",
      "0\n",
      "1\n",
      "2\n",
      "3\n",
      "7\n",
      "9\n",
      "geo\n",
      "name\n",
      "90.4\n",
      "3\n",
      "7\n",
      "9\n"
     ]
    }
   ],
   "source": [
    "#for loop\n",
    "\n",
    "a = \"machine_learning_course\"\n",
    "for i in a.split(\"_\"):\n",
    "    print(i)\n",
    "\n",
    "    \n",
    "for i in range(len(a.split(\"_\"))):\n",
    "    print(i)\n",
    "    \n",
    "a=[3, 7, 9, \"geo\", \"name\", 90.4]\n",
    "for element in a:\n",
    "    print(element)\n",
    "    \n",
    "    \n",
    "for element in a:\n",
    "    print(element)\n",
    "    if element==9:\n",
    "        break"
   ]
  },
  {
   "cell_type": "code",
   "execution_count": 119,
   "id": "68db2c9c",
   "metadata": {},
   "outputs": [
    {
     "name": "stdout",
     "output_type": "stream",
     "text": [
      "3\n",
      "7\n",
      "9\n",
      "13\n",
      "90.4\n"
     ]
    }
   ],
   "source": [
    "a=[3, 7, 9, 13, 90.4]\n",
    "i=0\n",
    "while i<5:\n",
    "    print(a[i])\n",
    "    i=i+1"
   ]
  },
  {
   "cell_type": "code",
   "execution_count": null,
   "id": "ed877bdf",
   "metadata": {},
   "outputs": [],
   "source": []
  }
 ],
 "metadata": {
  "kernelspec": {
   "display_name": "Python 3 (ipykernel)",
   "language": "python",
   "name": "python3"
  },
  "language_info": {
   "codemirror_mode": {
    "name": "ipython",
    "version": 3
   },
   "file_extension": ".py",
   "mimetype": "text/x-python",
   "name": "python",
   "nbconvert_exporter": "python",
   "pygments_lexer": "ipython3",
   "version": "3.7.11"
  }
 },
 "nbformat": 4,
 "nbformat_minor": 5
}
