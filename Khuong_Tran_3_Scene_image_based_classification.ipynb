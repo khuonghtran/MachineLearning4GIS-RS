{
 "cells": [
  {
   "cell_type": "markdown",
   "id": "40aa40d2",
   "metadata": {},
   "source": [
    "# Machine Learning for Remote Sensing and GIS (GEOG-790-S3)\n",
    "#### Course Instructor: Dr. Maitiniyazi Maimaitijiang, Department of Geography & Geospatial Sciences, SDSU"
   ]
  },
  {
   "cell_type": "markdown",
   "id": "d42d135d",
   "metadata": {},
   "source": [
    "# Scene/Image-based classification"
   ]
  },
  {
   "cell_type": "markdown",
   "id": "0dadaae3",
   "metadata": {},
   "source": [
    "## Learning Objectives:\n",
    "\n",
    "* Understand scene/image-based classification\n",
    "* Be able to apply commonly used machine learning algorithms to scene/image-based classification tasks\n",
    "* Be ableto apply parameter tuning in classification applications\n"
   ]
  },
  {
   "cell_type": "code",
   "execution_count": 7,
   "id": "e328af36",
   "metadata": {},
   "outputs": [],
   "source": [
    "# Import Lib\n",
    "import os\n",
    "import glob\n",
    "from PIL import Image\n",
    "import rasterio\n",
    "from rasterio.plot import show\n",
    "import matplotlib.pyplot as plt\n",
    "import numpy as np\n",
    "from rasterstats import zonal_stats, point_query\n",
    "from pprint import pprint\n",
    "import pandas as pd\n",
    "import numpy as np\n",
    "from sklearn.model_selection import train_test_split\n",
    "\n",
    "os.chdir(r\"D:\\Teaching\\2022Spring\\ML_RS_GIS\\labs\\lab_resutls\") # define default work diractory\n"
   ]
  },
  {
   "cell_type": "markdown",
   "id": "c2359f4e",
   "metadata": {},
   "source": [
    "# 1. Data Preprocessing for pixel-based classification \n",
    "## (VERY IMPORTANT!!!)"
   ]
  },
  {
   "cell_type": "code",
   "execution_count": 84,
   "id": "b641e6be",
   "metadata": {},
   "outputs": [],
   "source": [
    "img_path = r'D:\\Teaching\\2022Spring\\ML_RS_GIS\\labs\\Lab_5\\scene_image_based_classification_data'\n",
    "\n",
    "X_train = []\n",
    "y_train = [] \n",
    "X_test = []    \n",
    "y_test = []\n",
    "\n",
    "img_rows = 128\n",
    "img_cols = 128\n",
    "bands = 3\n",
    "label = 0\n",
    "\n",
    "test_size=0.3\n",
    "random_state=1\n",
    "\n",
    "for folder in os.listdir(img_path):\n",
    "    folder = img_path + '/' + folder\n",
    "   \n",
    "    X_class = []\n",
    "    y_class = []\n",
    "    \n",
    "    for img in glob.glob(folder + '/*.tif'):  \n",
    "        img = Image.open(img)\n",
    "        img = np.array(img)\n",
    "        img = np.resize(img,(img_rows,img_cols,bands))\n",
    "        img = img.flatten()   \n",
    "        X_class.append(img)\n",
    "        y_class.append(label)\n",
    "        \n",
    "    X_class = pd.DataFrame(X_class)\n",
    "    y_class = pd.DataFrame(y_class)\n",
    "    \n",
    "    X_train_class, X_test_class, y_train_class, y_test_class = train_test_split(X_class, y_class, test_size=test_size, random_state=random_state)\n",
    "    \n",
    "    X_train.append(X_train_class)\n",
    "    X_test.append(X_test_class)\n",
    "    y_train.append(y_train_class)\n",
    "    y_test.append(y_test_class)        \n",
    "    label = label+1\n",
    "\n",
    "# Merge multiple dataframes      \n",
    "X_train = pd.concat(X_train)\n",
    "y_train = pd.concat(y_train)\n",
    "X_test = pd.concat(X_test)    \n",
    "y_test = pd.concat(y_test)\n",
    "\n",
    "# Convert dataframes numpy arraries\n",
    "X_train = X_train.to_numpy()\n",
    "y_train = y_train.to_numpy()\n",
    "X_test = X_test.to_numpy()   \n",
    "y_test = y_test.to_numpy()\n",
    "\n",
    "# change the shape of y from (n_samples,1)  to (n_samples,)\n",
    "y_train = np.ravel(y_train)\n",
    "y_test = np.ravel(y_test)\n"
   ]
  },
  {
   "cell_type": "markdown",
   "id": "4e18533e",
   "metadata": {},
   "source": [
    "### 2. Radom Forest (RF) based Classification"
   ]
  },
  {
   "cell_type": "code",
   "execution_count": 85,
   "id": "008836e8",
   "metadata": {},
   "outputs": [
    {
     "data": {
      "text/plain": [
       "RandomForestClassifier()"
      ]
     },
     "execution_count": 85,
     "metadata": {},
     "output_type": "execute_result"
    }
   ],
   "source": [
    "# Train Random forest classication model\n",
    "from sklearn.ensemble import RandomForestClassifier\n",
    "model_RF = RandomForestClassifier()\n",
    "model_RF.fit(X_train, y_train)\n"
   ]
  },
  {
   "cell_type": "code",
   "execution_count": 86,
   "id": "6b07a630",
   "metadata": {},
   "outputs": [
    {
     "name": "stdout",
     "output_type": "stream",
     "text": [
      "Mode Training accuracy:  1.000\n",
      "Model Training kappa:  1.000\n",
      "Model Training f-score:  1.000\n",
      "[[70  0  0  0  0  0  0  0  0  0  0  0  0  0  0  0  0  0  0  0  0]\n",
      " [ 0 70  0  0  0  0  0  0  0  0  0  0  0  0  0  0  0  0  0  0  0]\n",
      " [ 0  0 70  0  0  0  0  0  0  0  0  0  0  0  0  0  0  0  0  0  0]\n",
      " [ 0  0  0 70  0  0  0  0  0  0  0  0  0  0  0  0  0  0  0  0  0]\n",
      " [ 0  0  0  0 70  0  0  0  0  0  0  0  0  0  0  0  0  0  0  0  0]\n",
      " [ 0  0  0  0  0 70  0  0  0  0  0  0  0  0  0  0  0  0  0  0  0]\n",
      " [ 0  0  0  0  0  0 70  0  0  0  0  0  0  0  0  0  0  0  0  0  0]\n",
      " [ 0  0  0  0  0  0  0 70  0  0  0  0  0  0  0  0  0  0  0  0  0]\n",
      " [ 0  0  0  0  0  0  0  0 70  0  0  0  0  0  0  0  0  0  0  0  0]\n",
      " [ 0  0  0  0  0  0  0  0  0 70  0  0  0  0  0  0  0  0  0  0  0]\n",
      " [ 0  0  0  0  0  0  0  0  0  0 70  0  0  0  0  0  0  0  0  0  0]\n",
      " [ 0  0  0  0  0  0  0  0  0  0  0 70  0  0  0  0  0  0  0  0  0]\n",
      " [ 0  0  0  0  0  0  0  0  0  0  0  0 70  0  0  0  0  0  0  0  0]\n",
      " [ 0  0  0  0  0  0  0  0  0  0  0  0  0 70  0  0  0  0  0  0  0]\n",
      " [ 0  0  0  0  0  0  0  0  0  0  0  0  0  0 70  0  0  0  0  0  0]\n",
      " [ 0  0  0  0  0  0  0  0  0  0  0  0  0  0  0 70  0  0  0  0  0]\n",
      " [ 0  0  0  0  0  0  0  0  0  0  0  0  0  0  0  0 70  0  0  0  0]\n",
      " [ 0  0  0  0  0  0  0  0  0  0  0  0  0  0  0  0  0 70  0  0  0]\n",
      " [ 0  0  0  0  0  0  0  0  0  0  0  0  0  0  0  0  0  0 70  0  0]\n",
      " [ 0  0  0  0  0  0  0  0  0  0  0  0  0  0  0  0  0  0  0 70  0]\n",
      " [ 0  0  0  0  0  0  0  0  0  0  0  0  0  0  0  0  0  0  0  0 70]]\n"
     ]
    },
    {
     "data": {
      "image/png": "[encoded data removed]",
      "text/plain": [
       "<Figure size 432x288 with 2 Axes>"
      ]
     },
     "metadata": {
      "needs_background": "light"
     },
     "output_type": "display_data"
    }
   ],
   "source": [
    "# Evaluate the performance of the model at the Training/calibration phase\n",
    "from sklearn.metrics import accuracy_score\n",
    "from sklearn.metrics import confusion_matrix,classification_report\n",
    "from sklearn.metrics import cohen_kappa_score\n",
    "from sklearn.metrics import f1_score\n",
    "\n",
    "y_pred_train = model_RF.predict(X_train)\n",
    "\n",
    "print('Mode Training accuracy: % .3f' % accuracy_score(y_train, y_pred_train))\n",
    "print('Model Training kappa: % .3f' % cohen_kappa_score(y_train, y_pred_train))\n",
    "print('Model Training f-score: % .3f' % f1_score(y_train, y_pred_train, average = 'weighted'))\n",
    "cm_testing = confusion_matrix(y_train, y_pred_train)\n",
    "print(cm_testing)\n",
    "plt.imshow(cm_testing,cmap = 'jet')\n",
    "plt.colorbar()\n",
    "plt.show()\n"
   ]
  },
  {
   "cell_type": "code",
   "execution_count": 87,
   "id": "5621cd14",
   "metadata": {},
   "outputs": [
    {
     "name": "stdout",
     "output_type": "stream",
     "text": [
      "Mode Testing accuracy:  0.276\n",
      "Model Testing kappa:  0.240\n",
      "Model Training f-score:  0.233\n",
      "[[12  0  2  2  0  1  0  0  2  3  0  0  0  0  1  1  0  4  2  0  0]\n",
      " [ 1  6  0  7  0  2  1  1  1  1  1  0  1  0  1  0  0  3  1  3  0]\n",
      " [ 4  1  3  2  0  2  0  0  2  7  0  1  0  1  1  0  0  3  3  0  0]\n",
      " [ 0  1  0 27  0  0  0  0  1  0  0  0  0  0  0  0  0  0  0  1  0]\n",
      " [ 0  1  0  3  6  0  1  1  0  0 11  0  2  2  0  0  1  0  0  2  0]\n",
      " [ 1  1  2  0  0 17  1  0  1  1  0  0  2  0  1  0  0  1  2  0  0]\n",
      " [ 0  2  0  0  7  3  3  1  2  0  4  1  1  2  2  1  0  0  0  0  1]\n",
      " [ 1  0  0  0  0  0  0 23  0  0  0  0  0  0  1  0  1  3  1  0  0]\n",
      " [ 1  1  1  2  2  0  2  1 10  0  0  3  1  0  1  0  0  2  0  0  3]\n",
      " [ 5  6  0  0  0  0  0  1  0 12  0  0  0  0  0  1  0  2  1  1  1]\n",
      " [ 0  0  0  0  1  0  0  3  0  0 19  0  0  0  2  1  0  3  1  0  0]\n",
      " [ 0  2  0  0  2  3  1  0  3  0  2  4  1  3  1  1  1  3  1  1  1]\n",
      " [ 1  0  1  1  2  4  3  0  3  0  5  1  0  1  1  3  1  2  0  0  1]\n",
      " [ 0  0  1  0  8  0  3  1  4  0  3  1  0  5  0  0  0  0  3  0  1]\n",
      " [ 1  2  2  3  2  0  0  2  1  1  1  2  1  2  2  1  0  1  2  3  1]\n",
      " [ 0  2  2  2  3  0  2  3  0  1  3  2  1  1  0  2  0  3  0  1  2]\n",
      " [ 1  1  0  0  0  2  2  9  1  1  0  2  1  2  0  1  0  0  4  2  1]\n",
      " [ 0  0  1  2  1  0  0  0  1  1  0  0  0  0  0  0  2 19  0  2  1]\n",
      " [ 3  2  2  1  0  3  1  2  3  3  0  1  0  0  1  1  0  3  2  2  0]\n",
      " [ 2  4  1  2  2  1  1  0  0  1  2  0  0  2  1  2  1  6  0  2  0]\n",
      " [ 1  3  1  2  5  2  2  2  2  3  0  1  1  0  0  0  1  2  1  1  0]]\n"
     ]
    },
    {
     "data": {
      "image/png": "[encoded data removed]",
      "text/plain": [
       "<Figure size 432x288 with 2 Axes>"
      ]
     },
     "metadata": {
      "needs_background": "light"
     },
     "output_type": "display_data"
    }
   ],
   "source": [
    "# Evaluate the performance of the model at the Testing phase\n",
    "y_pred_test = model_RF.predict(X_test)\n",
    "\n",
    "print('Mode Testing accuracy: % .3f' % accuracy_score(y_test, y_pred_test))\n",
    "print('Model Testing kappa: % .3f' % cohen_kappa_score(y_test, y_pred_test))\n",
    "print('Model Training f-score: % .3f' % f1_score(y_test, y_pred_test, average = 'weighted'))\n",
    "cm_testing = confusion_matrix(y_test, y_pred_test)\n",
    "print(cm_testing)\n",
    "plt.imshow(cm_testing,cmap = 'jet')\n",
    "plt.colorbar()\n",
    "plt.show()"
   ]
  },
  {
   "cell_type": "markdown",
   "id": "5e5f8091",
   "metadata": {},
   "source": [
    "### 4. Apply Support Vector Machine for Classification"
   ]
  },
  {
   "cell_type": "code",
   "execution_count": null,
   "id": "29757a8f",
   "metadata": {},
   "outputs": [],
   "source": [
    "\n",
    "\n",
    "\n",
    "\n",
    "\n",
    "\n",
    "\n",
    "\n",
    "\n"
   ]
  }
 ],
 "metadata": {
  "kernelspec": {
   "display_name": "Python 3 (ipykernel)",
   "language": "python",
   "name": "python3"
  },
  "language_info": {
   "codemirror_mode": {
    "name": "ipython",
    "version": 3
   },
   "file_extension": ".py",
   "mimetype": "text/x-python",
   "name": "python",
   "nbconvert_exporter": "python",
   "pygments_lexer": "ipython3",
   "version": "3.10.2"
  }
 },
 "nbformat": 4,
 "nbformat_minor": 5
}
